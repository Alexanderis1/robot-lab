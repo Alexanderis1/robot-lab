{
  "nbformat": 4,
  "nbformat_minor": 0,
  "metadata": {
    "colab": {
      "provenance": [],
      "authorship_tag": "ABX9TyNoRi3nh8IuFgKyi6h9DzfK",
      "include_colab_link": true
    },
    "kernelspec": {
      "name": "python3",
      "display_name": "Python 3"
    },
    "language_info": {
      "name": "python"
    }
  },
  "cells": [
    {
      "cell_type": "markdown",
      "metadata": {
        "id": "view-in-github",
        "colab_type": "text"
      },
      "source": [
        "<a href=\"https://colab.research.google.com/github/Alexanderis1/robot-lab/blob/main/Homework_1_2CSAi.ipynb\" target=\"_parent\"><img src=\"https://colab.research.google.com/assets/colab-badge.svg\" alt=\"Open In Colab\"/></a>"
      ]
    },
    {
      "cell_type": "markdown",
      "source": [
        "# **Homework 1 - Introduzione**\n",
        "\n",
        ">## Dove siamo?\n",
        "Questo è Google Colab, una soluzione ad utilizzo prevalentemente gratuito fornita da Google. Vi permetterà di scrivere ed eseguire codice ***Python*** direttamente dal Browser, senza dover installare niente sulle vostre macchine.\n",
        "\n",
        ">## Cos'è Python?\n",
        "Python è un linguaggio di programmazione, permette di trasformare istruzioni di alto livello (scritte in un modo comprensibile all'essere umano) in istruzioni di basso livello comprensibili al computer (ma non a noi... 010010011011001).\n",
        "\n",
        ">## Cosa ci permette di fare Python?\n",
        "Grazie a Python possiamo far eseguire i nostri algoritmi, una volta ideati e progettati graficamente, al nostro computer, che è il fine ultimo.\n",
        "\n",
        ">## Quale obbiettivo ci prefissiamo con questo Homework?\n",
        "Questo Homework ha come obiettivo farvi comprendere il significato degli algoritmi, l'utilità concreta della materia e darvi le competenze base per poter eseguire algoritmi che possono esservi utili nella vita quotidiana.\n",
        "\n",
        "\n",
        "\n"
      ],
      "metadata": {
        "id": "J5w8snKbXiU0"
      }
    },
    {
      "cell_type": "markdown",
      "source": [
        "# **Homework 1 - Utilizzo di Google Colab**\n",
        "\n",
        ">## Prima cosa da fare\n",
        "Innanzitutto è necessario che voi copiate questo file nel vostro Google Drive, in modo che possiate modificare la copia creata a vostro piacimento.\n",
        "\n",
        ">L'estensione del file è .ipynb che sta per I-Python-Notebook, ovvero un tipo di file Python interattivo, ed è possibile aprirlo solo su Google Colab oppure con software specifici che preferisco non farvi perdere tempo ad installare.\n",
        "\n",
        ">## Come funziona Google Colab\n",
        "Google Colab ci offre l'opportunità di creare dei Notebook e di inserirvi delle celle, che possono essere di due tipi, celle per il Testo (Questo testo ad esempio è incorporato dentro una cella Testo), e celle per il Codice Python.\n",
        "\n",
        ">Le celle possono essere create in alto a sinistra (+ Codice) (+ Testo) e vengono inserite in modo sequenziale all'interno del notebook, per ordinarle basta selezionare una cella e spostarla di ordine verso l'alto o verso il basso grazie al menù piccino che appare alla destra in cima alla cella (ci sono due freccie).\n",
        "\n",
        ">Per eseguire una cella bisogna premere SHIFT + ENTER\n",
        "\n"
      ],
      "metadata": {
        "id": "M51bzbsCvcTv"
      }
    },
    {
      "cell_type": "markdown",
      "source": [
        "# **Homework 1 - Introduzione a Python**\n",
        "\n",
        ">## Come creare variabili\n",
        "Sappiamo bene l'importanza delle variabili nella costruzione di algoritmi e nella programmazione in generale, creare una variabile significa letteralmente chiedere alla RAM di liberarci un piccolo spazio dentro di lei e di affidarcelo, dare un nome alla variabile creata e fondamentale per noi per poterla distinguere dalle altre.\n",
        "\n",
        ">## Come creare variabili grazie a Python\n",
        "La creazione di variabili è detta **istanziazione** (non è bellissima come parola) e si basa sul termine istanza, ovvero occorrenza, la variabile non è altro che una occorrenza di una porzione di memoria, prendere una di queste parti per noi equivale a creare una istanza, istanziare.\n",
        "\n",
        ">## Come inizializzare le variabili grazie a Python\n",
        "Una volta detto alla RAM di metterci da parte una sua porzione della memoria, possiamo **inizializzare** la variabile con un valore, questo ci permette di sapere da quel momento in poi con assoluta certezza cosa conterrà quella variabile (ecco perchè appunto il termine inizializzazione)."
      ],
      "metadata": {
        "id": "G6GPdLZVyrG2"
      }
    },
    {
      "cell_type": "markdown",
      "source": [],
      "metadata": {
        "id": "Xm44t2VWMQtm"
      }
    },
    {
      "cell_type": "code",
      "source": [],
      "metadata": {
        "id": "g27h_OBrMaDO"
      },
      "execution_count": null,
      "outputs": []
    },
    {
      "cell_type": "code",
      "source": [
        "# Questa è una cella di Codice!\n",
        "# Quello che avete letto sopra e anche questo, è un commento.\n",
        "# Sono utili all'interno del codice per scrivere note che potrebbero esserci utili per capire l'algoritmo o per spiegarlo agli altri.\n",
        "# Non influiscono sulla sua esecuzione e si creano mettendo un cancelletto all'inizio di una riga.\n",
        "\n",
        "# Per istanziare e contemporaneamente inizializzare una variabile dovete semplicemente scrivere in una riga vuota il nome della variabile, non contenente spazi.\n",
        "# Dopo il nome della variabile poi a destra il simbolo \"=\" e infine il valore da assegnare alla variabile\n",
        "\n",
        "# Di seguito istanzierò e inizializzerò la variabile con il nome \"variabile\" e il valore 0\n",
        "\n",
        "variabile = 3\n",
        "\n",
        "# Semplice no?\n",
        "\n",
        "# Per l'inizializzazione come potete vedere viene utilizzato l'operatore \"=\" che è ben diverso da quello dell'equazione.\n",
        "# In questo ambito \"=\" assegna il valore alla sua destra verso sinistra, ovvero assegna il valore 0 alla variabile \"variabile\"\n",
        "# Eseguendo questa cella non verrà prodotto alcun output ma sappiamo che in questo momento nella RAM è presente una variabile contenente il valore 0."
      ],
      "metadata": {
        "id": "hc4INj9s_7CA"
      },
      "execution_count": null,
      "outputs": []
    },
    {
      "cell_type": "code",
      "source": [
        "# Come facciamo a fidarci che queste variabili siano veramente salvate con questi valori in memoria durante l'esecuzione di questo notebook?\n",
        "\n",
        "# Possiamo utilizzare \"print()\", una funzione che ci permette di stampare ciò che è contenuto all'interno delle sue parentesi tonde\n",
        "# Mettendo delle variabili al suo interno \"print()\" produrrà in output il contenuto delle variabili!\n",
        "\n",
        "print(variabile)\n",
        "prova = print(variabile)\n",
        "print(prova)\n",
        "# Eseguendo questo codice dovrebbe uscirti come output 0!"
      ],
      "metadata": {
        "id": "77IQ-Y1h13Eh",
        "colab": {
          "base_uri": "https://localhost:8080/"
        },
        "outputId": "0498b6be-5844-47fb-840b-7a76fcc8f607"
      },
      "execution_count": null,
      "outputs": [
        {
          "output_type": "stream",
          "name": "stdout",
          "text": [
            "3\n",
            "3\n",
            "None\n"
          ]
        }
      ]
    },
    {
      "cell_type": "code",
      "source": [
        "variabile = 3\n",
        "\n",
        "def double(x):\n",
        "  return x*2\n",
        "\n",
        "print(variabile)\n",
        "prove = double(variabile)\n",
        "print(prove)\n",
        "\n",
        "print(double(variabile))"
      ],
      "metadata": {
        "id": "sOrf-WkuM_qQ",
        "colab": {
          "base_uri": "https://localhost:8080/"
        },
        "outputId": "b9232141-05c7-4950-bc94-e6cc6156b50a"
      },
      "execution_count": null,
      "outputs": [
        {
          "output_type": "stream",
          "name": "stdout",
          "text": [
            "3\n",
            "6\n",
            "6\n"
          ]
        }
      ]
    },
    {
      "cell_type": "code",
      "source": [
        "x = 3\n",
        "y = x\n",
        "x = 4\n",
        "y = x\n",
        "print(y)"
      ],
      "metadata": {
        "colab": {
          "base_uri": "https://localhost:8080/"
        },
        "id": "_eaYSFvTYkv_",
        "outputId": "e12e4b41-f212-4457-c18d-eabb378052b0"
      },
      "execution_count": null,
      "outputs": [
        {
          "output_type": "stream",
          "name": "stdout",
          "text": [
            "3\n"
          ]
        }
      ]
    },
    {
      "cell_type": "markdown",
      "source": [
        "# **Homework 1 - Le Funzioni in Informatica**\n",
        "\n",
        ">## Perchè Print() dovrebbe essere una funzione? Io ero rimasto a *y = x + 1*\n",
        "Rispolveriamo il concetto intuitivo di Funzione:\n",
        "![definizione-di-funzione-esempio.jpg](data:image/jpeg;base64,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)\n",
        "\n",
        ">Dati due insiemi di numeri ***X*** ed ***Y*** una funzione è un qualsiasi criterio che determina un legame tra i numeri dell'insieme ***X*** e i numeri dell'insieme ***Y***, nell'immagine in figura ad esempio la funzione ***y = x + 1*** è il criterio che lega tutti gli elementi dell'insieme x agli elementi dell'insieme Y più grandi di 1 cifra (0->1) (1->2) (100->101).\n",
        "\n",
        ">Print() però non produce alcun risultato, semplicemente stampa i risultati..\n",
        "\n",
        ">## I ritorni\n",
        "è importante sapere che in informatica convivono due tipo di funzioni, quelle che ritornato un valore a seconda del parametro x assegnato, e quelle che a prescindere dal valore assegnato non ritorneranno mai nulla.\n",
        "Ma cosa vuol dire ritornare?"
      ],
      "metadata": {
        "id": "W2M4CDv4SNe_"
      }
    },
    {
      "cell_type": "code",
      "source": [
        "# La funzione \"type()\" è una funzione che prende per parametro, tra le parentesi, un valore o una variabile e ritorna il suo tipo\n",
        "# Cosa sia il tipo di una variabile lo scopriremo a breve ma intanto vediamo come funziona il ritorno\n",
        "\n",
        "tipo = type(2)\n",
        "print(tipo)"
      ],
      "metadata": {
        "colab": {
          "base_uri": "https://localhost:8080/"
        },
        "id": "zI-K1tqd3rYp",
        "outputId": "fe752a13-c9ff-435a-cb16-e6bdb50cc338"
      },
      "execution_count": null,
      "outputs": [
        {
          "output_type": "stream",
          "name": "stdout",
          "text": [
            "<class 'int'>\n"
          ]
        }
      ]
    },
    {
      "cell_type": "code",
      "source": [
        "# Il ritorno è il valore che la funzione lascia al suo posto dopo la sua esecuzione, e che, ad esempio, messa come valore di una inizializzazione, diventa il valore della variabile\n",
        "# Cosa sia questo 'int' per ora non ci interessa\n",
        "\n",
        "# Ora proviamo a inizializzare una variabile con il risultato che lascia la funzione print\n",
        "stampa = print(\"ciao\")\n",
        "print(stampa)"
      ],
      "metadata": {
        "colab": {
          "base_uri": "https://localhost:8080/"
        },
        "id": "CVgHXz5K4VhN",
        "outputId": "064f18ce-de62-4358-b2e6-02bb2602eeca"
      },
      "execution_count": null,
      "outputs": [
        {
          "output_type": "stream",
          "name": "stdout",
          "text": [
            "ciao\n",
            "None\n"
          ]
        }
      ]
    },
    {
      "cell_type": "code",
      "source": [
        "# Come possiamo vedere il risultato è None, ovvero il valore Nullo, print non ritorna alcun risultato e il valore della variabile stampa in questo momento è il valore nullo\n",
        "# Anche queste funzioni che non hanno ritorno però sono molto utili, perchè nella loro esecuzione fanno qualcosa che ci è utile, ad esempio print dice a python di stampare"
      ],
      "metadata": {
        "id": "iVSNDDrT5C1s"
      },
      "execution_count": null,
      "outputs": []
    },
    {
      "cell_type": "code",
      "source": [
        "# Cosa possiamo fare con quello che abbiamo visto?\n",
        "\n",
        "# Possiamo però inizializzare una variabile rispetto a quello di un'altra\n",
        "variabile2 = variabile + 1\n",
        "\n",
        "# Possiamo stampare il risultato di una formula\n",
        "print(variabile2 + 5)\n",
        "\n",
        "# Possiamo fare sottrazioni, divisioni e moltiplicazioni\n",
        "# Moltiplicazione\n",
        "variabile3 = variabile2 * 2\n",
        "\n",
        "# Divisione\n",
        "variabile3 = 10 / 2\n",
        "\n",
        "# Sottrazione\n",
        "variabile3 = 10 - 5\n",
        "\n",
        "# Possiamo modificare il valore di una variabile già inizializzata (basterà re-inizializzarla)\n",
        "variabile3 = variabile2 + 18"
      ],
      "metadata": {
        "id": "EXwg05qVViRL",
        "colab": {
          "base_uri": "https://localhost:8080/"
        },
        "outputId": "c8517948-92a6-4205-bbb2-c30287589b5f"
      },
      "execution_count": null,
      "outputs": [
        {
          "output_type": "stream",
          "name": "stdout",
          "text": [
            "9\n"
          ]
        }
      ]
    },
    {
      "cell_type": "code",
      "source": [],
      "metadata": {
        "colab": {
          "base_uri": "https://localhost:8080/"
        },
        "id": "xr9nMagIcwQa",
        "outputId": "3f34c99d-67f1-4867-9a8a-ed82fc37d2c8"
      },
      "execution_count": null,
      "outputs": [
        {
          "output_type": "stream",
          "name": "stdout",
          "text": [
            "-1\n"
          ]
        }
      ]
    },
    {
      "cell_type": "markdown",
      "source": [
        "# **Homework 1 - Tipi di Variabili**\n",
        "\n",
        ">## Solo numeri?\n",
        "Ora sappiamo creare, manipolare e anche stampare le nostre variabili, ma solo se si tratta di numeri interi, infatti fino ad ora abbiamo dato per scontato di mettere all'interno delle nostre variabili solo numeri di questo tipo.\n",
        "All'interno delle variabili possiamo però mettere un sacco di oggetti differenti, ad esempio il testo, questo tipo di variabili sono dette di tipo ***String***"
      ],
      "metadata": {
        "id": "ZxNJ0ybbfGhd"
      }
    },
    {
      "cell_type": "code",
      "source": [
        "# L'inizializzazione di una variabile di tipo String è uguale alle altre, solo che il valore sarà un testo evidenziato dalle virgolette!\n",
        "var = \"Ciao\"\n",
        "print(var)"
      ],
      "metadata": {
        "colab": {
          "base_uri": "https://localhost:8080/"
        },
        "id": "qqGUAV-Sf8yP",
        "outputId": "dc1c281a-d752-4fa9-e445-d324d12830a8"
      },
      "execution_count": null,
      "outputs": [
        {
          "output_type": "stream",
          "name": "stdout",
          "text": [
            "Ciao\n"
          ]
        }
      ]
    },
    {
      "cell_type": "code",
      "source": [
        "# Possiamo utilizzare la somma tra variabili di tipo String!\n",
        "var2 = \"amici!\"\n",
        "spazio = \" \"\n",
        "\n",
        "print(var + spazio + var2)"
      ],
      "metadata": {
        "colab": {
          "base_uri": "https://localhost:8080/"
        },
        "id": "SMGbnm-2gStD",
        "outputId": "c47fb185-7bba-4d99-9388-215a2223f4c6"
      },
      "execution_count": null,
      "outputs": [
        {
          "output_type": "stream",
          "name": "stdout",
          "text": [
            "Ciao amici!\n"
          ]
        }
      ]
    },
    {
      "cell_type": "code",
      "source": [
        "# Purtroppo però due variabili di tipo diverso spesso bisticciano, se proviamo ad utilizzare l'operatore \"+\" tra una variabile int (numeri interi) e una String darà errore..\n",
        "\n",
        "variabile_int = 2\n",
        "variabile_string = \"Numero \"\n",
        "\n",
        "variabile_2 = variabile_string + variabile_int"
      ],
      "metadata": {
        "colab": {
          "base_uri": "https://localhost:8080/",
          "height": 200
        },
        "id": "jet4LBezgkDP",
        "outputId": "a25f79ee-b8ce-40ac-9263-7f44d3b3cf4e"
      },
      "execution_count": null,
      "outputs": [
        {
          "output_type": "error",
          "ename": "TypeError",
          "evalue": "ignored",
          "traceback": [
            "\u001b[0;31m---------------------------------------------------------------------------\u001b[0m",
            "\u001b[0;31mTypeError\u001b[0m                                 Traceback (most recent call last)",
            "\u001b[0;32m<ipython-input-39-85f796d5fa0b>\u001b[0m in \u001b[0;36m<module>\u001b[0;34m\u001b[0m\n\u001b[1;32m      4\u001b[0m \u001b[0mvariabile_string\u001b[0m \u001b[0;34m=\u001b[0m \u001b[0;34m\"Numero \"\u001b[0m\u001b[0;34m\u001b[0m\u001b[0;34m\u001b[0m\u001b[0m\n\u001b[1;32m      5\u001b[0m \u001b[0;34m\u001b[0m\u001b[0m\n\u001b[0;32m----> 6\u001b[0;31m \u001b[0mvariabile_2\u001b[0m \u001b[0;34m=\u001b[0m \u001b[0mvariabile_string\u001b[0m \u001b[0;34m+\u001b[0m \u001b[0mvariabile_int\u001b[0m\u001b[0;34m\u001b[0m\u001b[0;34m\u001b[0m\u001b[0m\n\u001b[0m",
            "\u001b[0;31mTypeError\u001b[0m: can only concatenate str (not \"int\") to str"
          ]
        }
      ]
    },
    {
      "cell_type": "code",
      "source": [
        "# Possiamo però utilizzare una funzione chiamata \"str()\" che converte ciò che gli passiamo tra le parentesi in una stringa!\n",
        "\n",
        "variabile_2 = variabile_string + str(variabile_int)\n",
        "\n",
        "print(variabile_2)"
      ],
      "metadata": {
        "colab": {
          "base_uri": "https://localhost:8080/"
        },
        "id": "TGK_dm1lgn2v",
        "outputId": "b39447b1-c4a1-461c-f0ed-28492ed9ecc1"
      },
      "execution_count": null,
      "outputs": [
        {
          "output_type": "stream",
          "name": "stdout",
          "text": [
            "Numero 2\n"
          ]
        }
      ]
    },
    {
      "cell_type": "markdown",
      "source": [
        ">## Variabili di tipo Array (vettori)\n",
        "La penultima tipologia di variabile basilare che incontreremo in questo notebook è la variabile di tipo Array, una tipologia importantissima.\n",
        "Un Array è una sequenza (o lista) ordinata, di oggetti, tutti dello stesso tipo.\n",
        "Ad esempio possiamo avere un Array che contiene tutti i cognomi di tutti i ragazzi di una classe in ordine alfabetico, oppure un Array che contiene tutti i numeri pari dal 2 al 10."
      ],
      "metadata": {
        "id": "VbHb-MAhhz6A"
      }
    },
    {
      "cell_type": "code",
      "source": [
        "# Array di numeri pari dal 2 al 10\n",
        "array_pari = [2, 4, 6, 8, 10]\n",
        "\n",
        "# Array di alcuni nomi casuali che mi vengono in mente\n",
        "array_nomi = [\"pippo\", \"pluto\", \"paperino\"]\n",
        "\n",
        "# La particolarità dell'inizializzazione dell'array è quindi mettere tutti i suoi valori tra le parentesi quadre (si mettono con AltGr + è), e separare tutti i valori con virgole\n",
        "\n",
        "# Proviamo a usare la funzione print() con un array\n",
        "print(array_nomi)"
      ],
      "metadata": {
        "colab": {
          "base_uri": "https://localhost:8080/"
        },
        "id": "52LEQt96hr0E",
        "outputId": "180221e4-2670-41ff-91ed-84300175e6e1"
      },
      "execution_count": null,
      "outputs": [
        {
          "output_type": "stream",
          "name": "stdout",
          "text": [
            "['pippo', 'pluto', 'paperino']\n"
          ]
        }
      ]
    },
    {
      "cell_type": "code",
      "source": [
        "# Se volessimo stampare solo il primo valore in ordine dell'Array?\n",
        "# Basterà mettere il nome della variabile array, affiancata a destra dalle parentesi quadre con all'interno la posizione che ci interessa partendo da 0\n",
        "# Più difficile a dirsi che a farsi\n",
        "\n",
        "print(array_nomi[0])\n",
        "print(array_nomi[1])\n",
        "print(array_nomi[2])"
      ],
      "metadata": {
        "colab": {
          "base_uri": "https://localhost:8080/"
        },
        "id": "u7bQU-MOj1tm",
        "outputId": "53f96999-2dd4-435d-b6c5-7e91452c74ed"
      },
      "execution_count": null,
      "outputs": [
        {
          "output_type": "stream",
          "name": "stdout",
          "text": [
            "pippo\n",
            "pluto\n",
            "paperino\n"
          ]
        }
      ]
    },
    {
      "cell_type": "code",
      "source": [
        "# E' possibile anche creare array che contengolo elementi non tutti dello stesso tipo su Python, ma per il nostro percorso faremo finta che non sia possibile.\n",
        "\n",
        "# Ovviamente quanto detto nella cella precedente vale anche per gli array di int\n",
        "print(array_pari[0])\n",
        "print(array_pari[1])"
      ],
      "metadata": {
        "colab": {
          "base_uri": "https://localhost:8080/"
        },
        "id": "AJiiMOR8lBF5",
        "outputId": "61278aba-ed12-40ac-a379-d5f1f0d5fc7b"
      },
      "execution_count": null,
      "outputs": [
        {
          "output_type": "stream",
          "name": "stdout",
          "text": [
            "2\n",
            "4\n"
          ]
        }
      ]
    },
    {
      "cell_type": "code",
      "source": [
        "# Una funzione molto utile che si può utilizzare con gli array è \"append()\"\n",
        "# Questa funzione ha la particolarità che deve essere \"applicata\", un concetto che non approfondiremo ora nella teoria\n",
        "# Nella pratica è una funzione che può essere eseguita solo da determinati tipi di dato, in questo caso gli array\n",
        "# Serve per aggiungere un nuovo elemento ad un array, in ultima posizione\n",
        "# La funzione append() non ritorna nulla, la sua utilità è nel modificare la funzione che la esegue.\n",
        "\n",
        "print(array_nomi)\n",
        "array_nomi.append(\"gastone\")\n",
        "print(array_nomi)\n",
        "\n",
        "# Il punto tra l'array e la funzione append() indica proprio che è l'array ad eseguirla, e la usa per aggiungere un nuovo elemento, \"gastone\" a se stesso."
      ],
      "metadata": {
        "colab": {
          "base_uri": "https://localhost:8080/"
        },
        "id": "vF-5Y7layWoJ",
        "outputId": "0dd3a2c3-ac44-4a6a-c7ac-1a36fbf40cf4"
      },
      "execution_count": null,
      "outputs": [
        {
          "output_type": "stream",
          "name": "stdout",
          "text": [
            "['pippo', 'pluto', 'paperino']\n",
            "['pippo', 'pluto', 'paperino', 'gastone']\n"
          ]
        }
      ]
    },
    {
      "cell_type": "code",
      "source": [
        "import array\n",
        "# Altra funzione utile sempre per gli array è \"pop()\"\n",
        "# Va applicata ad un array esattamente come append(), e ritorna come risultato l'elemento in posizione specificato tra le parentesi di pop\n",
        "# Oltre a fare questo però, lo rimuove dall'array che ha eseguito la funzione\n",
        "\n",
        "array_1 = [\"elemento1\", \"elemento2\"]\n",
        "array_2 = [\"elemento3\", \"elemento4\"]\n",
        "\n",
        "# vogliamo utilizzare pop() per spostare l'elemento2 dall'array_1 all'array_2\n",
        "\n",
        "elemento = array_1.pop(1)\n",
        "print(elemento)\n",
        "array_2.append(elemento)\n",
        "\n",
        "print(array_1)\n",
        "print(array_2)"
      ],
      "metadata": {
        "colab": {
          "base_uri": "https://localhost:8080/"
        },
        "id": "9ixkCUB70XhR",
        "outputId": "2c4d66ef-b8c5-48af-e739-8de83bcbab55"
      },
      "execution_count": null,
      "outputs": [
        {
          "output_type": "stream",
          "name": "stdout",
          "text": [
            "elemento2\n",
            "['elemento1']\n",
            "['elemento3', 'elemento4', 'elemento2']\n"
          ]
        }
      ]
    },
    {
      "cell_type": "markdown",
      "source": [
        ">## Variabili di tipo Booleane\n",
        "Le ultime e più semplici sono le variabili Booleane, una variabile Booleana ha solo due valori possibili, True oppure False.\n",
        "Oltre alle variabili Booleane anche alcuni operatori possono produrre risultati di tipo Booleano."
      ],
      "metadata": {
        "id": "eEBd2Q6MnaGs"
      }
    },
    {
      "cell_type": "code",
      "source": [
        "# Variabile True\n",
        "var_true = True\n",
        "var_false = False\n",
        "\n",
        "# Operatori di Confronto\n",
        "\n",
        "# Operatore di uguaglianza \"==\", se i due valori sono uguali produce un risultato True\n",
        "print(3 == 3)\n",
        "# Altrimenti False\n",
        "print(3 == 4)\n",
        "\n",
        "# Operatore di disuguaglianza \"!=\", se i due valori sono diversi produce un risultato True\n",
        "print(3 != 4)\n",
        "# Altrimenti False\n",
        "print(3 != 3)\n",
        "\n",
        "# Operatore minore-uguale \"<=\", se il valore a sinistra è minore o uguale a quello a destra produce True\n",
        "print(1 <= 5)\n",
        "# Altrimenti False\n",
        "print(6 <= 2)\n",
        "\n",
        "# Operatore maggiore-uguale \">=\", uguale al precedente ma invertito..\n",
        "# Questi operatori si comportano in modo simile ai ritorni delle funzioni\n",
        "\n",
        "var_bol = 6 <= 7\n",
        "print(var_bol)"
      ],
      "metadata": {
        "colab": {
          "base_uri": "https://localhost:8080/"
        },
        "id": "UmOfH0DGnXH3",
        "outputId": "9547f31b-2a98-4723-b78d-57b926a7d48b"
      },
      "execution_count": null,
      "outputs": [
        {
          "output_type": "stream",
          "name": "stdout",
          "text": [
            "True\n",
            "False\n",
            "True\n",
            "False\n",
            "True\n",
            "False\n",
            "True\n"
          ]
        }
      ]
    },
    {
      "cell_type": "markdown",
      "source": [
        ">## Osservazioni sui Tipi\n",
        "Inizialmente ho cercato di limitare la caratteristica di \"Tipo\" solo alle variabili, per rendere più semplice l'apprendimento, ma dopo gli ultimi esempi con i booleani appare chiaro che non solo le variabili ma ogni tipo di risultato o valore che esiste all'interno del codice in esecuzione ha un suo tipo."
      ],
      "metadata": {
        "id": "TELzNL7bpJqe"
      }
    },
    {
      "cell_type": "markdown",
      "source": [
        "# **Homework 1 - I Costrutti**\n",
        "\n",
        ">## Come arriviamo agli algoritmi?\n",
        "Tutto quello trattato fino ad ora è sempre ruotato attorno alle variabili e alla loro manipolazione, ma come creiamo dei veri e propri algoritmi?\n",
        "Per questo esistono i Costrutti e ne vedremo due essenziali per ora, il costrutto ***if*** e il costrutto ***while***\n",
        "\n",
        ">## Il costrutto IF\n",
        "Il costrutto if prende un risultato o una variabile booleana e crea due percorsi all'interno del codice, uno per il True e, se necessario, uno per il False\n",
        "\n",
        ">![2.png](data:image/png;base64,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)"
      ],
      "metadata": {
        "id": "G2mZAn-gmEIe"
      }
    },
    {
      "cell_type": "code",
      "source": [
        "# Algoritmo che stampa il numero più grande tra due\n",
        "numero1 = 10\n",
        "numero2 = 20\n",
        "\n",
        "if(numero1 <= numero2):\n",
        "  print(\"il numero maggiore è \" + str(numero2))\n",
        "else:\n",
        "  print(\"il numero maggiore è \" + str(numero1))\n",
        "\n",
        "# Leggiamolo insieme\n",
        "# SE il primo numero è minore o uguale del secondo -> due punti, a capo e Tab! quando si utilizzano i due punti su Python si sta dichiarando che rispetto a quella condizione\n",
        "# tutte le righe di codice di li in poi spaziate a destra da un TAB verranno eseguite se la condizione risulta rispettata.\n",
        "# ALTRIMENTI, notate che il TAB non è più presente prima dell'else, due punti e stesso principio di prima."
      ],
      "metadata": {
        "colab": {
          "base_uri": "https://localhost:8080/"
        },
        "id": "YyCn_uodlWHs",
        "outputId": "3933ec05-e3fb-4ded-dd56-c516d23adf55"
      },
      "execution_count": null,
      "outputs": [
        {
          "output_type": "stream",
          "name": "stdout",
          "text": [
            "il numero maggiore è 20\n"
          ]
        }
      ]
    },
    {
      "cell_type": "code",
      "source": [
        "# L'else non è obbligatorio! A volte può semplicemente servirci un if per evitare casi spiacevoli\n",
        "\n",
        "# Algoritmo che effettua la divisione per due numeri ma che evita la divisione per zero\n",
        "numero1 = 10\n",
        "numero2 = 0\n",
        "\n",
        "if(numero2 != 0):\n",
        "  print(numero1 / numero2)\n"
      ],
      "metadata": {
        "id": "xtrwcBbosYRI"
      },
      "execution_count": null,
      "outputs": []
    },
    {
      "cell_type": "markdown",
      "source": [
        ">## Il costrutto WHILE\n",
        "Il costrutto While è quello che ci permette di realizzare i primi algoritmi \"complessi\".\n",
        "il while prende un risultato o una variabile booleana e finchè ritorna True esegue ripetutamente il codice al suo \"interno\" (ovvero spostato verso destra di un TAB dopo i due punti)\n",
        "NB. Lo spostamento del codice verso destra con un TAB si chiama **Indentazione**.\n",
        "\n",
        ">![4.png](data:image/png;base64,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)\n"
      ],
      "metadata": {
        "id": "8tOUystats39"
      }
    },
    {
      "cell_type": "code",
      "source": [
        "# Algoritmo che stampa 10 volte \"Ciao!\" e alla fine scrive \"Finito\"\n",
        "\n",
        "var = \"Ciao!\"\n",
        "contatore = 1\n",
        "\n",
        "while(contatore <= 10):\n",
        "  print(var)\n",
        "  contatore = contatore + 1\n",
        "print(\"Finito\")\n",
        "\n",
        "# Leggiamolo insieme\n",
        "# Finchè contatore è minore o uguale a 10, due punti, a capo, tab\n",
        "# stampa la variabile, a capo tab\n",
        "# incrementa contatore di 1\n",
        "# DOBBIAMO ORA RITORNARE INDIETRO NEL CODICE, questo è il potere del While, non potremo mai più proseguire finchè la condizione non risulterà False\n",
        "# il contatore ora è uguale a 2, che è sempre minore o uguale di 10, ristampiamo e incrementiamo, e così via\n",
        "# arriviamo al punto in cui il contatore si incrementa e arriva ad 11, ritorniamo su e controlliamo se il contatore è minore o uguale a 10,\n",
        "# NO! Quindi andiamo direttamente alla fine dell'indentazione ovvero alla stampa di Finito"
      ],
      "metadata": {
        "colab": {
          "base_uri": "https://localhost:8080/"
        },
        "id": "ms0i5uvqtruB",
        "outputId": "fcb862f6-340b-4c3c-cbf7-28c0fe4d1b5f"
      },
      "execution_count": null,
      "outputs": [
        {
          "output_type": "stream",
          "name": "stdout",
          "text": [
            "Ciao!\n",
            "Ciao!\n",
            "Ciao!\n",
            "Ciao!\n",
            "Ciao!\n",
            "Ciao!\n",
            "Ciao!\n",
            "Ciao!\n",
            "Ciao!\n",
            "Ciao!\n",
            "Finito\n"
          ]
        }
      ]
    },
    {
      "cell_type": "markdown",
      "source": [
        "# **Homework 1 - Il robot e le 6 uova**"
      ],
      "metadata": {
        "id": "mDKZsvi1xnXb"
      }
    },
    {
      "cell_type": "code",
      "source": [
        "confezione_di_uova = [\"uovo1\", \"uovo2\", \"uovo3\", \"uovo4\", \"uovo5\", \"uovo6\"]\n",
        "\n",
        "vaschetta_tuorli = []\n",
        "# Array vuoto, senza elementi\n",
        "\n",
        "contatore = 1\n",
        "\n",
        "while(contatore <= 3):\n",
        "  uovo_afferrato = confezione_di_uova.pop(0)\n",
        "  tuorlo = \"tuorlo dell'\" + uovo_afferrato\n",
        "  vaschetta_tuorli.append(tuorlo)\n",
        "  contatore = contatore + 1\n",
        "\n",
        "print(confezione_di_uova)\n",
        "print(vaschetta_tuorli)\n",
        "\n"
      ],
      "metadata": {
        "colab": {
          "base_uri": "https://localhost:8080/"
        },
        "id": "G4HZ91r7vyzm",
        "outputId": "ee9e7d8d-b345-442e-c6b8-8b64772771a9"
      },
      "execution_count": null,
      "outputs": [
        {
          "output_type": "stream",
          "name": "stdout",
          "text": [
            "['uovo4', 'uovo5', 'uovo6']\n",
            "[\"tuorlo dell'uovo1\", \"tuorlo dell'uovo2\", \"tuorlo dell'uovo3\"]\n"
          ]
        }
      ]
    },
    {
      "cell_type": "code",
      "source": [
        "# Aggiungete Celle a piacimento e giocate!"
      ],
      "metadata": {
        "id": "ubTx-tX4yQ8I"
      },
      "execution_count": null,
      "outputs": []
    },
    {
      "cell_type": "code",
      "source": [
        "variabile1 = 1345\n",
        "variabile2 = 244\n",
        "variabile3 = 45\n",
        "\n",
        "# stampare in ordine le variabili dal numero più grande al più piccolo, deve funzionare anche cambiando i valori delle variabili\n",
        "\n",
        "if(variabile1 >= variabile2):\n",
        "  if(variabile1 >= variabile3):\n",
        "    print(variabile1)\n",
        "  else:\n",
        "    print(variabile3)\n",
        "else:\n",
        "  if(variabile2 >= variabile3):\n",
        "    print(variabile2)\n",
        "  else:\n",
        "    print(variabile3)\n",
        "\n"
      ],
      "metadata": {
        "colab": {
          "base_uri": "https://localhost:8080/"
        },
        "id": "f43WoQKWhXGJ",
        "outputId": "353f5c16-dfa4-4102-f8aa-abe4493961f1"
      },
      "execution_count": null,
      "outputs": [
        {
          "output_type": "stream",
          "name": "stdout",
          "text": [
            "1345\n"
          ]
        }
      ]
    },
    {
      "cell_type": "code",
      "source": [],
      "metadata": {
        "id": "DipMfdqKi3C5"
      },
      "execution_count": null,
      "outputs": []
    }
  ]
}